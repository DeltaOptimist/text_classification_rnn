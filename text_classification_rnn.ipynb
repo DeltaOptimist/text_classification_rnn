{
  "cells": [
    {
      "cell_type": "markdown",
      "metadata": {
        "id": "9TnJztDZGw-n"
      },
      "source": [
        "# Text classification with an RNN"
      ]
    },
    {
      "cell_type": "markdown",
      "metadata": {
        "id": "lUWearf0Gw-p"
      },
      "source": [
        "This text classification tutorial trains a [recurrent neural network](https://developers.google.com/machine-learning/glossary/#recurrent_neural_network) on the [IMDB large movie review dataset](http://ai.stanford.edu/~amaas/data/sentiment/) for sentiment analysis."
      ]
    },
    {
      "cell_type": "markdown",
      "metadata": {
        "id": "_2VQo4bajwUU"
      },
      "source": [
        "## Setup"
      ]
    },
    {
      "cell_type": "code",
      "execution_count": 1,
      "metadata": {
        "execution": {
          "iopub.execute_input": "2021-11-02T15:50:32.600658Z",
          "iopub.status.busy": "2021-11-02T15:50:32.600048Z",
          "iopub.status.idle": "2021-11-02T15:50:34.697251Z",
          "shell.execute_reply": "2021-11-02T15:50:34.696671Z"
        },
        "id": "z682XYsrjkY9"
      },
      "outputs": [],
      "source": [
        "import numpy as np\n",
        "\n",
        "import tensorflow_datasets as tfds\n",
        "import tensorflow as tf\n",
        "\n",
        "tfds.disable_progress_bar()"
      ]
    },
    {
      "cell_type": "markdown",
      "metadata": {
        "id": "1rXHa-w9JZhb"
      },
      "source": [
        "Import `matplotlib` and create a helper function to plot graphs:"
      ]
    },
    {
      "cell_type": "code",
      "execution_count": 2,
      "metadata": {
        "execution": {
          "iopub.execute_input": "2021-11-02T15:50:34.702573Z",
          "iopub.status.busy": "2021-11-02T15:50:34.701983Z",
          "iopub.status.idle": "2021-11-02T15:50:34.934678Z",
          "shell.execute_reply": "2021-11-02T15:50:34.934132Z"
        },
        "id": "Mp1Z7P9pYRSK"
      },
      "outputs": [],
      "source": [
        "import matplotlib.pyplot as plt\n",
        "\n",
        "\n",
        "def plot_graphs(history, metric):\n",
        "  plt.plot(history.history[metric])\n",
        "  plt.plot(history.history['val_'+metric], '')\n",
        "  plt.xlabel(\"Epochs\")\n",
        "  plt.ylabel(metric)\n",
        "  plt.legend([metric, 'val_'+metric])"
      ]
    },
    {
      "cell_type": "markdown",
      "metadata": {
        "id": "pRmMubr0jrE2"
      },
      "source": [
        "## Setup input pipeline\n",
        "\n",
        "\n",
        "The IMDB large movie review dataset is a *binary classification* dataset—all the reviews have either a *positive* or *negative* sentiment.\n",
        "\n",
        "Download the dataset using [TFDS](https://www.tensorflow.org/datasets). See the [loading text tutorial](https://www.tensorflow.org/tutorials/load_data/text) for details on how to load this sort of data manually.\n"
      ]
    },
    {
      "cell_type": "code",
      "execution_count": 3,
      "metadata": {
        "execution": {
          "iopub.execute_input": "2021-11-02T15:50:34.939647Z",
          "iopub.status.busy": "2021-11-02T15:50:34.939008Z",
          "iopub.status.idle": "2021-11-02T15:50:40.367522Z",
          "shell.execute_reply": "2021-11-02T15:50:40.367906Z"
        },
        "id": "SHRwRoP2nVHX",
        "colab": {
          "base_uri": "https://localhost:8080/"
        },
        "outputId": "e5105d0e-52b4-4dbf-daa9-f77c763d2548"
      },
      "outputs": [
        {
          "output_type": "stream",
          "name": "stdout",
          "text": [
            "\u001b[1mDownloading and preparing dataset imdb_reviews/plain_text/1.0.0 (download: 80.23 MiB, generated: Unknown size, total: 80.23 MiB) to /root/tensorflow_datasets/imdb_reviews/plain_text/1.0.0...\u001b[0m\n",
            "Shuffling and writing examples to /root/tensorflow_datasets/imdb_reviews/plain_text/1.0.0.incompleteKTOR5S/imdb_reviews-train.tfrecord\n",
            "Shuffling and writing examples to /root/tensorflow_datasets/imdb_reviews/plain_text/1.0.0.incompleteKTOR5S/imdb_reviews-test.tfrecord\n",
            "Shuffling and writing examples to /root/tensorflow_datasets/imdb_reviews/plain_text/1.0.0.incompleteKTOR5S/imdb_reviews-unsupervised.tfrecord\n"
          ]
        },
        {
          "output_type": "stream",
          "name": "stderr",
          "text": [
            "WARNING:absl:Dataset is using deprecated text encoder API which will be removed soon. Please use the plain_text version of the dataset and migrate to `tensorflow_text`.\n"
          ]
        },
        {
          "output_type": "stream",
          "name": "stdout",
          "text": [
            "\u001b[1mDataset imdb_reviews downloaded and prepared to /root/tensorflow_datasets/imdb_reviews/plain_text/1.0.0. Subsequent calls will reuse this data.\u001b[0m\n"
          ]
        },
        {
          "output_type": "execute_result",
          "data": {
            "text/plain": [
              "(TensorSpec(shape=(), dtype=tf.string, name=None),\n",
              " TensorSpec(shape=(), dtype=tf.int64, name=None))"
            ]
          },
          "metadata": {},
          "execution_count": 3
        }
      ],
      "source": [
        "dataset, info = tfds.load('imdb_reviews', with_info=True,\n",
        "                          as_supervised=True)\n",
        "train_dataset, test_dataset = dataset['train'], dataset['test']\n",
        "\n",
        "train_dataset.element_spec"
      ]
    },
    {
      "cell_type": "markdown",
      "metadata": {
        "id": "nWA4c2ir7g6p"
      },
      "source": [
        "Initially this returns a dataset of (text, label pairs):"
      ]
    },
    {
      "cell_type": "code",
      "execution_count": 4,
      "metadata": {
        "execution": {
          "iopub.execute_input": "2021-11-02T15:50:40.372803Z",
          "iopub.status.busy": "2021-11-02T15:50:40.372245Z",
          "iopub.status.idle": "2021-11-02T15:50:42.826608Z",
          "shell.execute_reply": "2021-11-02T15:50:42.827029Z"
        },
        "id": "vd4_BGKyurao",
        "colab": {
          "base_uri": "https://localhost:8080/"
        },
        "outputId": "de20a49f-33c6-4c2a-e9d5-a5e2e5110bee"
      },
      "outputs": [
        {
          "output_type": "stream",
          "name": "stdout",
          "text": [
            "text:  b\"This was an absolutely terrible movie. Don't be lured in by Christopher Walken or Michael Ironside. Both are great actors, but this must simply be their worst role in history. Even their great acting could not redeem this movie's ridiculous storyline. This movie is an early nineties US propaganda piece. The most pathetic scenes were those when the Columbian rebels were making their cases for revolutions. Maria Conchita Alonso appeared phony, and her pseudo-love affair with Walken was nothing but a pathetic emotional plug in a movie that was devoid of any real meaning. I am disappointed that there are movies like this, ruining actor's like Christopher Walken's good name. I could barely sit through it.\"\n",
            "label:  0\n",
            "text:  b'I have been known to fall asleep during films, but this is usually due to a combination of things including, really tired, being warm and comfortable on the sette and having just eaten a lot. However on this occasion I fell asleep because the film was rubbish. The plot development was constant. Constantly slow and boring. Things seemed to happen, but with no explanation of what was causing them or why. I admit, I may have missed part of the film, but i watched the majority of it and everything just seemed to happen of its own accord without any real concern for anything else. I cant recommend this film at all.'\n",
            "label:  0\n",
            "text:  b'Mann photographs the Alberta Rocky Mountains in a superb fashion, and Jimmy Stewart and Walter Brennan give enjoyable performances as they always seem to do. <br /><br />But come on Hollywood - a Mountie telling the people of Dawson City, Yukon to elect themselves a marshal (yes a marshal!) and to enforce the law themselves, then gunfighters battling it out on the streets for control of the town? <br /><br />Nothing even remotely resembling that happened on the Canadian side of the border during the Klondike gold rush. Mr. Mann and company appear to have mistaken Dawson City for Deadwood, the Canadian North for the American Wild West.<br /><br />Canadian viewers be prepared for a Reefer Madness type of enjoyable howl with this ludicrous plot, or, to shake your head in disgust.'\n",
            "label:  0\n",
            "text:  b'This is the kind of film for a snowy Sunday afternoon when the rest of the world can go ahead with its own business as you descend into a big arm-chair and mellow for a couple of hours. Wonderful performances from Cher and Nicolas Cage (as always) gently row the plot along. There are no rapids to cross, no dangerous waters, just a warm and witty paddle through New York life at its best. A family film in every sense and one that deserves the praise it received.'\n",
            "label:  1\n",
            "text:  b'As others have mentioned, all the women that go nude in this film are mostly absolutely gorgeous. The plot very ably shows the hypocrisy of the female libido. When men are around they want to be pursued, but when no \"men\" are around, they become the pursuers of a 14 year old boy. And the boy becomes a man really fast (we should all be so lucky at this age!). He then gets up the courage to pursue his true love.'\n",
            "label:  1\n"
          ]
        }
      ],
      "source": [
        "for example, label in train_dataset.take(5):\n",
        "  print('text: ', example.numpy())\n",
        "  print('label: ', label.numpy())"
      ]
    },
    {
      "cell_type": "markdown",
      "metadata": {
        "id": "z2qVJzcEluH_"
      },
      "source": [
        "Next shuffle the data for training and create batches of these `(text, label)` pairs:"
      ]
    },
    {
      "cell_type": "code",
      "execution_count": 5,
      "metadata": {
        "execution": {
          "iopub.execute_input": "2021-11-02T15:50:42.831318Z",
          "iopub.status.busy": "2021-11-02T15:50:42.830698Z",
          "iopub.status.idle": "2021-11-02T15:50:42.832648Z",
          "shell.execute_reply": "2021-11-02T15:50:42.832975Z"
        },
        "id": "dDsCaZCDYZgm"
      },
      "outputs": [],
      "source": [
        "BUFFER_SIZE = 10000\n",
        "BATCH_SIZE = 64"
      ]
    },
    {
      "cell_type": "code",
      "execution_count": 7,
      "metadata": {
        "execution": {
          "iopub.execute_input": "2021-11-02T15:50:42.837775Z",
          "iopub.status.busy": "2021-11-02T15:50:42.837138Z",
          "iopub.status.idle": "2021-11-02T15:50:42.841349Z",
          "shell.execute_reply": "2021-11-02T15:50:42.841706Z"
        },
        "id": "VznrltNOnUc5"
      },
      "outputs": [],
      "source": [
        "train_dataset = train_dataset.shuffle(BUFFER_SIZE).batch(BATCH_SIZE).prefetch(tf.data.AUTOTUNE)\n",
        "test_dataset = test_dataset.batch(BATCH_SIZE).prefetch(tf.data.AUTOTUNE)"
      ]
    },
    {
      "cell_type": "code",
      "execution_count": 8,
      "metadata": {
        "execution": {
          "iopub.execute_input": "2021-11-02T15:50:42.846034Z",
          "iopub.status.busy": "2021-11-02T15:50:42.845470Z",
          "iopub.status.idle": "2021-11-02T15:50:45.126272Z",
          "shell.execute_reply": "2021-11-02T15:50:45.126652Z"
        },
        "id": "jqkvdcFv41wC",
        "colab": {
          "base_uri": "https://localhost:8080/"
        },
        "outputId": "b61de4bc-c84e-49b8-ed1c-c5f2646e922d"
      },
      "outputs": [
        {
          "output_type": "stream",
          "name": "stdout",
          "text": [
            "texts:  [b'Despite having 6 different directors, this fantasy hangs together remarkably well.<br /><br />It was filmed in England (nowhere near Morocco) in studios and on a few beaches. At the outbreak of war, everything was moved to America and some scenes were filmed in the Grand Canyon.<br /><br />Notable for having one of the corniest lyrics in a song - \"I want to be a bandit, can\\'t you understand it\". It remains a favourite of many people.'\n",
            " b\"Vivacious & irrepressible, ANNE OF GREEN GABLES brings unlooked-for happiness into the lives of a lonely old sister & brother on Prince Edward Island.<br /><br />Lucy Maud Montgomery's well-loved novel comes to life in this wonderful little movie. Excellent production values, a literate script and first class performances gives the story exactly the touch of quality it deserves.<br /><br />Taking her professional name from the character she portrayed, actress Anne Shirley is a joy as the red-headed fourteen-year-old orphan who completely alters the lives of her new guardians. Completely assured in her starring role, Miss Shirley is a delight, entertaining the viewer with Anne's boundless imagination, quick temper and not-so-secret sorrows.<br /><br />Playing the stern spinster who gives the girl a home, Helen Westley also completely commands her role; the viewer will enjoy seeing this sharp-tongued woman slowly unbend to Anne's affection and child-like innocence. Australian character actor O. P. Heggie gives one of his finest performances as Westley's shy, gentle brother who welcomes Anne into his heart from the moment he arrives to fetch her from the railroad station.<br /><br />Tom Brown most agreeably plays the schoolboy who quickly grabs Anne's attention. Sara Haden is appropriately prickly as a nosy neighbor. Charley Grapewin makes the most of his few moments as Avonlea's doctor.\"\n",
            " b\"I agree with the previous comment, what a disappointment. Rented it thinking it was going to be a good movie since Mira and Olivier where in it. I was surprised by their performance, expected more since they're good actors.<br /><br />Thought it was a slow beginning but it got worse. I even laughed at some bad stunts!! when is supposed to be a mystery movie. You can even guess who is the killer beforehand!!! <br /><br />For real what happened?? <br /><br />Sorry to say but don't even bother you'll waste time and money.<br /><br />Boring!!!\"]\n",
            "\n",
            "labels:  [1 1 0]\n"
          ]
        }
      ],
      "source": [
        "for example, label in train_dataset.take(1):\n",
        "  print('texts: ', example.numpy()[:3])\n",
        "  print()\n",
        "  print('labels: ', label.numpy()[:3])"
      ]
    },
    {
      "cell_type": "markdown",
      "metadata": {
        "id": "s5eWCo88voPY"
      },
      "source": [
        "## Create the text encoder"
      ]
    },
    {
      "cell_type": "markdown",
      "metadata": {
        "id": "TFevcItw15P_"
      },
      "source": [
        "The raw text loaded by `tfds` needs to be processed before it can be used in a model. The simplest way to process text for training is using the `TextVectorization` layer. This layer has many capabilities, but this tutorial sticks to the default behavior.\n",
        "\n",
        "Create the layer, and pass the dataset's text to the layer's `.adapt` method:"
      ]
    },
    {
      "cell_type": "code",
      "execution_count": 9,
      "metadata": {
        "execution": {
          "iopub.execute_input": "2021-11-02T15:50:45.131867Z",
          "iopub.status.busy": "2021-11-02T15:50:45.131251Z",
          "iopub.status.idle": "2021-11-02T15:50:48.294934Z",
          "shell.execute_reply": "2021-11-02T15:50:48.295429Z"
        },
        "id": "uC25Lu1Yvuqy"
      },
      "outputs": [],
      "source": [
        "VOCAB_SIZE = 1000\n",
        "encoder = tf.keras.layers.TextVectorization(max_tokens=VOCAB_SIZE)\n",
        "encoder.adapt(train_dataset.map(lambda text, label: text))"
      ]
    },
    {
      "cell_type": "markdown",
      "metadata": {
        "id": "IuQzVBbe3Ldu"
      },
      "source": [
        "The `.adapt` method sets the layer's vocabulary. Here are the first 20 tokens. After the padding and unknown tokens they're sorted by frequency: "
      ]
    },
    {
      "cell_type": "code",
      "execution_count": 10,
      "metadata": {
        "execution": {
          "iopub.execute_input": "2021-11-02T15:50:48.299858Z",
          "iopub.status.busy": "2021-11-02T15:50:48.299279Z",
          "iopub.status.idle": "2021-11-02T15:50:48.305058Z",
          "shell.execute_reply": "2021-11-02T15:50:48.304619Z"
        },
        "id": "tBoyjjWg0Ac9",
        "colab": {
          "base_uri": "https://localhost:8080/"
        },
        "outputId": "e2d15cbc-6dd4-4197-dacd-037cb26a0e97"
      },
      "outputs": [
        {
          "output_type": "execute_result",
          "data": {
            "text/plain": [
              "array(['', '[UNK]', 'the', 'and', 'a', 'of', 'to', 'is', 'in', 'it', 'i',\n",
              "       'this', 'that', 'br', 'was', 'as', 'for', 'with', 'movie', 'but'],\n",
              "      dtype='<U14')"
            ]
          },
          "metadata": {},
          "execution_count": 10
        }
      ],
      "source": [
        "vocab = np.array(encoder.get_vocabulary())\n",
        "vocab[:20]"
      ]
    },
    {
      "cell_type": "markdown",
      "metadata": {
        "id": "mjId5pua3jHQ"
      },
      "source": [
        "Once the vocabulary is set, the layer can encode text into indices. The tensors of indices are 0-padded to the longest sequence in the batch (unless you set a fixed `output_sequence_length`):"
      ]
    },
    {
      "cell_type": "code",
      "execution_count": 11,
      "metadata": {
        "execution": {
          "iopub.execute_input": "2021-11-02T15:50:48.308818Z",
          "iopub.status.busy": "2021-11-02T15:50:48.308274Z",
          "iopub.status.idle": "2021-11-02T15:50:48.321984Z",
          "shell.execute_reply": "2021-11-02T15:50:48.322347Z"
        },
        "id": "RGc7C9WiwRWs",
        "colab": {
          "base_uri": "https://localhost:8080/"
        },
        "outputId": "711af053-eaf2-4156-e333-b65383fb86cc"
      },
      "outputs": [
        {
          "output_type": "execute_result",
          "data": {
            "text/plain": [
              "array([[450, 252,   1, ...,   0,   0,   0],\n",
              "       [  1,   1,   1, ...,   0,   0,   0],\n",
              "       [ 10,   1,  17, ...,   0,   0,   0]])"
            ]
          },
          "metadata": {},
          "execution_count": 11
        }
      ],
      "source": [
        "encoded_example = encoder(example)[:3].numpy()\n",
        "encoded_example"
      ]
    },
    {
      "cell_type": "markdown",
      "metadata": {
        "id": "F5cjz0bS39IN"
      },
      "source": [
        "With the default settings, the process is not completely reversible. There are three main reasons for that:\n",
        "\n",
        "1. The default value for `preprocessing.TextVectorization`'s `standardize` argument is `\"lower_and_strip_punctuation\"`.\n",
        "2. The limited vocabulary size and lack of character-based fallback results in some unknown tokens."
      ]
    },
    {
      "cell_type": "code",
      "execution_count": 12,
      "metadata": {
        "execution": {
          "iopub.execute_input": "2021-11-02T15:50:48.327153Z",
          "iopub.status.busy": "2021-11-02T15:50:48.326376Z",
          "iopub.status.idle": "2021-11-02T15:50:48.332236Z",
          "shell.execute_reply": "2021-11-02T15:50:48.331662Z"
        },
        "id": "N_tD0QY5wXaK",
        "colab": {
          "base_uri": "https://localhost:8080/"
        },
        "outputId": "f2342609-2230-498e-8436-483b560c90f9"
      },
      "outputs": [
        {
          "output_type": "stream",
          "name": "stdout",
          "text": [
            "Original:  b'Despite having 6 different directors, this fantasy hangs together remarkably well.<br /><br />It was filmed in England (nowhere near Morocco) in studios and on a few beaches. At the outbreak of war, everything was moved to America and some scenes were filmed in the Grand Canyon.<br /><br />Notable for having one of the corniest lyrics in a song - \"I want to be a bandit, can\\'t you understand it\". It remains a favourite of many people.'\n",
            "Round-trip:  despite having [UNK] different directors this fantasy [UNK] together [UNK] [UNK] br it was filmed in [UNK] [UNK] near [UNK] in [UNK] and on a few [UNK] at the [UNK] of war everything was [UNK] to america and some scenes were filmed in the [UNK] [UNK] br [UNK] for having one of the [UNK] [UNK] in a song i want to be a [UNK] cant you understand it it [UNK] a [UNK] of many people                                                                                                                                                                                                                                                                                                                                                                                                                                                                                                                                                                                                                                                                                                                                                                                                                                                                                                                                                            \n",
            "\n",
            "Original:  b\"Vivacious & irrepressible, ANNE OF GREEN GABLES brings unlooked-for happiness into the lives of a lonely old sister & brother on Prince Edward Island.<br /><br />Lucy Maud Montgomery's well-loved novel comes to life in this wonderful little movie. Excellent production values, a literate script and first class performances gives the story exactly the touch of quality it deserves.<br /><br />Taking her professional name from the character she portrayed, actress Anne Shirley is a joy as the red-headed fourteen-year-old orphan who completely alters the lives of her new guardians. Completely assured in her starring role, Miss Shirley is a delight, entertaining the viewer with Anne's boundless imagination, quick temper and not-so-secret sorrows.<br /><br />Playing the stern spinster who gives the girl a home, Helen Westley also completely commands her role; the viewer will enjoy seeing this sharp-tongued woman slowly unbend to Anne's affection and child-like innocence. Australian character actor O. P. Heggie gives one of his finest performances as Westley's shy, gentle brother who welcomes Anne into his heart from the moment he arrives to fetch her from the railroad station.<br /><br />Tom Brown most agreeably plays the schoolboy who quickly grabs Anne's attention. Sara Haden is appropriately prickly as a nosy neighbor. Charley Grapewin makes the most of his few moments as Avonlea's doctor.\"\n",
            "Round-trip:  [UNK] [UNK] [UNK] of [UNK] [UNK] brings [UNK] [UNK] into the lives of a [UNK] old sister brother on [UNK] [UNK] [UNK] br [UNK] [UNK] [UNK] [UNK] novel comes to life in this wonderful little movie excellent production [UNK] a [UNK] script and first class performances gives the story exactly the [UNK] of quality it [UNK] br taking her [UNK] name from the character she portrayed actress [UNK] [UNK] is a [UNK] as the [UNK] [UNK] [UNK] who completely [UNK] the lives of her new [UNK] completely [UNK] in her [UNK] role miss [UNK] is a [UNK] entertaining the viewer with [UNK] [UNK] [UNK] [UNK] [UNK] and [UNK] [UNK] br playing the [UNK] [UNK] who gives the girl a home [UNK] [UNK] also completely [UNK] her role the viewer will enjoy seeing this [UNK] woman [UNK] [UNK] to [UNK] [UNK] and [UNK] [UNK] [UNK] character actor [UNK] [UNK] [UNK] gives one of his [UNK] performances as [UNK] [UNK] [UNK] brother who [UNK] [UNK] into his heart from the moment he [UNK] to [UNK] her from the [UNK] [UNK] br tom [UNK] most [UNK] plays the [UNK] who quickly [UNK] [UNK] attention [UNK] [UNK] is [UNK] [UNK] as a [UNK] [UNK] [UNK] [UNK] makes the most of his few moments as [UNK] [UNK]                                                                                                                                                                                                                                                                                                                                                                                                                                                                                                                                                                                                                                                                                                                                                                                                                   \n",
            "\n",
            "Original:  b\"I agree with the previous comment, what a disappointment. Rented it thinking it was going to be a good movie since Mira and Olivier where in it. I was surprised by their performance, expected more since they're good actors.<br /><br />Thought it was a slow beginning but it got worse. I even laughed at some bad stunts!! when is supposed to be a mystery movie. You can even guess who is the killer beforehand!!! <br /><br />For real what happened?? <br /><br />Sorry to say but don't even bother you'll waste time and money.<br /><br />Boring!!!\"\n",
            "Round-trip:  i [UNK] with the previous comment what a [UNK] [UNK] it thinking it was going to be a good movie since [UNK] and [UNK] where in it i was surprised by their performance expected more since theyre good [UNK] br thought it was a slow beginning but it got worse i even [UNK] at some bad [UNK] when is supposed to be a mystery movie you can even guess who is the killer [UNK] br br for real what happened br br sorry to say but dont even [UNK] youll waste time and [UNK] br boring                                                                                                                                                                                                                                                                                                                                                                                                                                                                                                                                                                                                                                                                                                                                                                                                                                                                                                                                       \n",
            "\n"
          ]
        }
      ],
      "source": [
        "for n in range(3):\n",
        "  print(\"Original: \", example[n].numpy())\n",
        "  print(\"Round-trip: \", \" \".join(vocab[encoded_example[n]]))\n",
        "  print()"
      ]
    },
    {
      "cell_type": "markdown",
      "metadata": {
        "id": "bjUqGVBxGw-t"
      },
      "source": [
        "## Create the model"
      ]
    },
    {
      "cell_type": "markdown",
      "metadata": {
        "id": "bgs6nnSTGw-t"
      },
      "source": [
        "Above is a diagram of the model. \n",
        "\n",
        "1. This model can be build as a `tf.keras.Sequential`.\n",
        "\n",
        "2. The first layer is the `encoder`, which converts the text to a sequence of token indices.\n",
        "\n",
        "3. After the encoder is an embedding layer. An embedding layer stores one vector per word. When called, it converts the sequences of word indices to sequences of vectors. These vectors are trainable. After training (on enough data), words with similar meanings often have similar vectors.\n",
        "\n",
        "  This index-lookup is much more efficient than the equivalent operation of passing a one-hot encoded vector through a `tf.keras.layers.Dense` layer.\n",
        "\n",
        "4. A recurrent neural network (RNN) processes sequence input by iterating through the elements. RNNs pass the outputs from one timestep to their input on the next timestep.\n",
        "\n",
        "  The `tf.keras.layers.Bidirectional` wrapper can also be used with an RNN layer. This propagates the input forward and backwards through the RNN layer and then concatenates the final output. \n",
        "\n",
        "  * The main advantage of a bidirectional RNN is that the signal from the beginning of the input doesn't need to be processed all the way through every timestep to affect the output.  \n",
        "\n",
        "  * The main disadvantage of a bidirectional RNN is that you can't efficiently stream predictions as words are being added to the end.\n",
        "\n",
        "5. After the RNN has converted the sequence to a single vector the two `layers.Dense` do some final processing, and convert from this vector representation to a single logit as the classification output. \n"
      ]
    },
    {
      "cell_type": "markdown",
      "metadata": {
        "id": "V4fodCI7soQi"
      },
      "source": [
        "The code to implement this is below:"
      ]
    },
    {
      "cell_type": "code",
      "execution_count": 13,
      "metadata": {
        "execution": {
          "iopub.execute_input": "2021-11-02T15:50:48.337515Z",
          "iopub.status.busy": "2021-11-02T15:50:48.336851Z",
          "iopub.status.idle": "2021-11-02T15:50:49.682810Z",
          "shell.execute_reply": "2021-11-02T15:50:49.682208Z"
        },
        "id": "LwfoBkmRYcP3"
      },
      "outputs": [],
      "source": [
        "model = tf.keras.Sequential([\n",
        "    encoder,\n",
        "    tf.keras.layers.Embedding(\n",
        "        input_dim=len(encoder.get_vocabulary()),\n",
        "        output_dim=64,\n",
        "        # Use masking to handle the variable sequence lengths\n",
        "        mask_zero=True),\n",
        "    tf.keras.layers.Bidirectional(tf.keras.layers.LSTM(64)),\n",
        "    tf.keras.layers.Dense(64, activation='relu'),\n",
        "    tf.keras.layers.Dense(1)\n",
        "])"
      ]
    },
    {
      "cell_type": "markdown",
      "metadata": {
        "id": "QIGmIGkkouUb"
      },
      "source": [
        "Please note that Keras sequential model is used here since all the layers in the model only have single input and produce single output. In case you want to use stateful RNN layer, you might want to build your model with Keras functional API or model subclassing so that you can retrieve and reuse the RNN layer states. Please check [Keras RNN guide](https://www.tensorflow.org/guide/keras/rnn#rnn_state_reuse) for more details."
      ]
    },
    {
      "cell_type": "markdown",
      "metadata": {
        "id": "kF-PsCk1LwjY"
      },
      "source": [
        "The embedding layer [uses masking](https://www.tensorflow.org/guide/keras/masking_and_padding) to handle the varying sequence-lengths. All the layers after the `Embedding` support masking:"
      ]
    },
    {
      "cell_type": "code",
      "execution_count": 14,
      "metadata": {
        "execution": {
          "iopub.execute_input": "2021-11-02T15:50:49.688412Z",
          "iopub.status.busy": "2021-11-02T15:50:49.687680Z",
          "iopub.status.idle": "2021-11-02T15:50:49.690180Z",
          "shell.execute_reply": "2021-11-02T15:50:49.690575Z"
        },
        "id": "87a8-CwfKebw",
        "colab": {
          "base_uri": "https://localhost:8080/"
        },
        "outputId": "b3f8e0bd-8d43-4c3e-e64a-5dfe5e876ab3"
      },
      "outputs": [
        {
          "output_type": "stream",
          "name": "stdout",
          "text": [
            "[False, True, True, True, True]\n"
          ]
        }
      ],
      "source": [
        "print([layer.supports_masking for layer in model.layers])"
      ]
    },
    {
      "cell_type": "markdown",
      "metadata": {
        "id": "ZlS0iaUIWLpI"
      },
      "source": [
        "To confirm that this works as expected, evaluate a sentence twice. First, alone so there's no padding to mask:"
      ]
    },
    {
      "cell_type": "code",
      "execution_count": 15,
      "metadata": {
        "execution": {
          "iopub.execute_input": "2021-11-02T15:50:49.695532Z",
          "iopub.status.busy": "2021-11-02T15:50:49.694953Z",
          "iopub.status.idle": "2021-11-02T15:50:52.508631Z",
          "shell.execute_reply": "2021-11-02T15:50:52.509017Z"
        },
        "id": "O41gw3KfWHus",
        "colab": {
          "base_uri": "https://localhost:8080/"
        },
        "outputId": "7e562b3d-19cf-4198-e3de-cec93da2500f"
      },
      "outputs": [
        {
          "output_type": "stream",
          "name": "stdout",
          "text": [
            "[0.00358407]\n"
          ]
        }
      ],
      "source": [
        "# predict on a sample text without padding.\n",
        "\n",
        "sample_text = ('The movie was cool. The animation and the graphics '\n",
        "               'were out of this world. I would recommend this movie.')\n",
        "predictions = model.predict(np.array([sample_text]))\n",
        "print(predictions[0])"
      ]
    },
    {
      "cell_type": "markdown",
      "metadata": {
        "id": "K0VQmGnEWcuz"
      },
      "source": [
        "Now, evaluate it again in a batch with a longer sentence. The result should be identical:"
      ]
    },
    {
      "cell_type": "code",
      "execution_count": 16,
      "metadata": {
        "execution": {
          "iopub.execute_input": "2021-11-02T15:50:52.515111Z",
          "iopub.status.busy": "2021-11-02T15:50:52.514457Z",
          "iopub.status.idle": "2021-11-02T15:50:52.658235Z",
          "shell.execute_reply": "2021-11-02T15:50:52.658691Z"
        },
        "id": "UIgpuTeFNDzq",
        "colab": {
          "base_uri": "https://localhost:8080/"
        },
        "outputId": "a2ffc9e9-3cb7-422a-c865-6d0b381dd7fe"
      },
      "outputs": [
        {
          "output_type": "stream",
          "name": "stdout",
          "text": [
            "[0.00358407]\n"
          ]
        }
      ],
      "source": [
        "# predict on a sample text with padding\n",
        "\n",
        "padding = \"the \" * 2000\n",
        "predictions = model.predict(np.array([sample_text, padding]))\n",
        "print(predictions[0])"
      ]
    },
    {
      "cell_type": "markdown",
      "metadata": {
        "id": "sRI776ZcH3Tf"
      },
      "source": [
        "Compile the Keras model to configure the training process:"
      ]
    },
    {
      "cell_type": "code",
      "execution_count": 17,
      "metadata": {
        "execution": {
          "iopub.execute_input": "2021-11-02T15:50:52.795749Z",
          "iopub.status.busy": "2021-11-02T15:50:52.794994Z",
          "iopub.status.idle": "2021-11-02T15:50:52.860291Z",
          "shell.execute_reply": "2021-11-02T15:50:52.860662Z"
        },
        "id": "kj2xei41YZjC"
      },
      "outputs": [],
      "source": [
        "model.compile(loss=tf.keras.losses.BinaryCrossentropy(from_logits=True),\n",
        "              optimizer=tf.keras.optimizers.Adam(1e-4),\n",
        "              metrics=['accuracy'])"
      ]
    },
    {
      "cell_type": "markdown",
      "metadata": {
        "id": "zIwH3nto596k"
      },
      "source": [
        "## Train the model"
      ]
    },
    {
      "cell_type": "code",
      "execution_count": 18,
      "metadata": {
        "execution": {
          "iopub.execute_input": "2021-11-02T15:50:52.865748Z",
          "iopub.status.busy": "2021-11-02T15:50:52.865047Z",
          "iopub.status.idle": "2021-11-02T15:56:08.899338Z",
          "shell.execute_reply": "2021-11-02T15:56:08.899791Z"
        },
        "id": "hw86wWS4YgR2",
        "colab": {
          "base_uri": "https://localhost:8080/"
        },
        "outputId": "a91f470f-2caa-4616-ff69-6e04bc814cf3"
      },
      "outputs": [
        {
          "output_type": "stream",
          "name": "stdout",
          "text": [
            "Epoch 1/10\n",
            "391/391 [==============================] - 43s 88ms/step - loss: 0.6485 - accuracy: 0.5568 - val_loss: 0.5216 - val_accuracy: 0.7474\n",
            "Epoch 2/10\n",
            "391/391 [==============================] - 33s 82ms/step - loss: 0.4232 - accuracy: 0.8026 - val_loss: 0.4181 - val_accuracy: 0.7922\n",
            "Epoch 3/10\n",
            "391/391 [==============================] - 32s 81ms/step - loss: 0.3557 - accuracy: 0.8430 - val_loss: 0.3626 - val_accuracy: 0.8229\n",
            "Epoch 4/10\n",
            "391/391 [==============================] - 32s 81ms/step - loss: 0.3263 - accuracy: 0.8578 - val_loss: 0.3313 - val_accuracy: 0.8547\n",
            "Epoch 5/10\n",
            "391/391 [==============================] - 32s 81ms/step - loss: 0.3169 - accuracy: 0.8622 - val_loss: 0.3259 - val_accuracy: 0.8521\n",
            "Epoch 6/10\n",
            "391/391 [==============================] - 32s 82ms/step - loss: 0.3071 - accuracy: 0.8687 - val_loss: 0.3412 - val_accuracy: 0.8380\n",
            "Epoch 7/10\n",
            "391/391 [==============================] - 33s 82ms/step - loss: 0.3044 - accuracy: 0.8699 - val_loss: 0.3198 - val_accuracy: 0.8562\n",
            "Epoch 8/10\n",
            "391/391 [==============================] - 33s 83ms/step - loss: 0.3003 - accuracy: 0.8716 - val_loss: 0.3196 - val_accuracy: 0.8578\n",
            "Epoch 9/10\n",
            "391/391 [==============================] - 32s 82ms/step - loss: 0.2973 - accuracy: 0.8744 - val_loss: 0.3191 - val_accuracy: 0.8599\n",
            "Epoch 10/10\n",
            "391/391 [==============================] - 33s 83ms/step - loss: 0.2950 - accuracy: 0.8753 - val_loss: 0.3220 - val_accuracy: 0.8583\n"
          ]
        }
      ],
      "source": [
        "history = model.fit(train_dataset, epochs=10,\n",
        "                    validation_data=test_dataset,\n",
        "                    validation_steps=30)"
      ]
    },
    {
      "cell_type": "code",
      "execution_count": 19,
      "metadata": {
        "execution": {
          "iopub.execute_input": "2021-11-02T15:56:08.905181Z",
          "iopub.status.busy": "2021-11-02T15:56:08.904477Z",
          "iopub.status.idle": "2021-11-02T15:56:24.266040Z",
          "shell.execute_reply": "2021-11-02T15:56:24.266501Z"
        },
        "id": "BaNbXi43YgUT",
        "colab": {
          "base_uri": "https://localhost:8080/"
        },
        "outputId": "98c2eea8-3584-4255-f7cd-af4563e6c2e5"
      },
      "outputs": [
        {
          "output_type": "stream",
          "name": "stdout",
          "text": [
            "391/391 [==============================] - 19s 48ms/step - loss: 0.3172 - accuracy: 0.8618\n",
            "Test Loss: 0.31722527742385864\n",
            "Test Accuracy: 0.8618000149726868\n"
          ]
        }
      ],
      "source": [
        "test_loss, test_acc = model.evaluate(test_dataset)\n",
        "\n",
        "print('Test Loss:', test_loss)\n",
        "print('Test Accuracy:', test_acc)"
      ]
    },
    {
      "cell_type": "code",
      "execution_count": 20,
      "metadata": {
        "execution": {
          "iopub.execute_input": "2021-11-02T15:56:24.308793Z",
          "iopub.status.busy": "2021-11-02T15:56:24.286044Z",
          "iopub.status.idle": "2021-11-02T15:56:24.534404Z",
          "shell.execute_reply": "2021-11-02T15:56:24.534886Z"
        },
        "id": "OZmwt_mzaQJk",
        "colab": {
          "base_uri": "https://localhost:8080/",
          "height": 519
        },
        "outputId": "3c601e7e-fe2e-40a8-ab78-e35416a3bd0f"
      },
      "outputs": [
        {
          "output_type": "execute_result",
          "data": {
            "text/plain": [
              "(0.0, 0.6661595210433007)"
            ]
          },
          "metadata": {},
          "execution_count": 20
        },
        {
          "output_type": "display_data",
          "data": {
            "text/plain": [
              "<Figure size 1152x576 with 2 Axes>"
            ],
            "image/png": "[encoded data removed]"
          },
          "metadata": {
            "needs_background": "light"
          }
        }
      ],
      "source": [
        "plt.figure(figsize=(16, 8))\n",
        "plt.subplot(1, 2, 1)\n",
        "plot_graphs(history, 'accuracy')\n",
        "plt.ylim(None, 1)\n",
        "plt.subplot(1, 2, 2)\n",
        "plot_graphs(history, 'loss')\n",
        "plt.ylim(0, None)"
      ]
    },
    {
      "cell_type": "markdown",
      "metadata": {
        "id": "DwSE_386uhxD"
      },
      "source": [
        "Run a prediction on a new sentence:\n",
        "\n",
        "If the prediction is >= 0.0, it is positive else it is negative."
      ]
    },
    {
      "cell_type": "code",
      "execution_count": 21,
      "metadata": {
        "execution": {
          "iopub.execute_input": "2021-11-02T15:56:24.540123Z",
          "iopub.status.busy": "2021-11-02T15:56:24.539499Z",
          "iopub.status.idle": "2021-11-02T15:56:26.502611Z",
          "shell.execute_reply": "2021-11-02T15:56:26.502044Z"
        },
        "id": "ZXgfQSgRW6zU"
      },
      "outputs": [],
      "source": [
        "sample_text = ('The movie was cool. The animation and the graphics '\n",
        "               'were out of this world. I would recommend this movie.')\n",
        "predictions = model.predict(np.array([sample_text]))"
      ]
    },
    {
      "cell_type": "code",
      "source": [
        "predictions"
      ],
      "metadata": {
        "colab": {
          "base_uri": "https://localhost:8080/"
        },
        "id": "69SSKKg4357Y",
        "outputId": "b56cb437-a844-4908-e350-aa0f84d3a838"
      },
      "execution_count": 22,
      "outputs": [
        {
          "output_type": "execute_result",
          "data": {
            "text/plain": [
              "array([[0.97605866]], dtype=float32)"
            ]
          },
          "metadata": {},
          "execution_count": 22
        }
      ]
    },
    {
      "cell_type": "markdown",
      "metadata": {
        "id": "7g1evcaRpTKm"
      },
      "source": [
        "## Stack two or more LSTM layers\n",
        "\n",
        "Keras recurrent layers have two available modes that are controlled by the `return_sequences` constructor argument:\n",
        "\n",
        "* If `False` it returns only the last output for each input sequence (a 2D tensor of shape (batch_size, output_features)). This is the default, used in the previous model.\n",
        "\n",
        "* If `True` the full sequences of successive outputs for each timestep is returned (a 3D tensor of shape `(batch_size, timesteps, output_features)`).\n",
        "\n",
        "Here is what the flow of information looks like with `return_sequences=True`:\n",
        "\n",
        "![layered_bidirectional](images/layered_bidirectional.png)"
      ]
    },
    {
      "cell_type": "markdown",
      "metadata": {
        "id": "wbSClCrG1z8l"
      },
      "source": [
        "The interesting thing about using an `RNN` with `return_sequences=True` is that the output still has 3-axes, like the input, so it can be passed to another RNN layer, like this:"
      ]
    },
    {
      "cell_type": "code",
      "execution_count": 23,
      "metadata": {
        "execution": {
          "iopub.execute_input": "2021-11-02T15:56:26.509313Z",
          "iopub.status.busy": "2021-11-02T15:56:26.508536Z",
          "iopub.status.idle": "2021-11-02T15:56:29.643331Z",
          "shell.execute_reply": "2021-11-02T15:56:29.642665Z"
        },
        "id": "jo1jjO3vn0jo"
      },
      "outputs": [],
      "source": [
        "model = tf.keras.Sequential([\n",
        "    encoder,\n",
        "    tf.keras.layers.Embedding(len(encoder.get_vocabulary()), 64, mask_zero=True),\n",
        "    tf.keras.layers.Bidirectional(tf.keras.layers.LSTM(64,  return_sequences=True)),\n",
        "    tf.keras.layers.Bidirectional(tf.keras.layers.LSTM(32)),\n",
        "    tf.keras.layers.Dense(64, activation='relu'),\n",
        "    tf.keras.layers.Dropout(0.5),\n",
        "    tf.keras.layers.Dense(1)\n",
        "])"
      ]
    },
    {
      "cell_type": "code",
      "execution_count": 24,
      "metadata": {
        "execution": {
          "iopub.execute_input": "2021-11-02T15:56:29.647221Z",
          "iopub.status.busy": "2021-11-02T15:56:29.646587Z",
          "iopub.status.idle": "2021-11-02T15:56:29.653319Z",
          "shell.execute_reply": "2021-11-02T15:56:29.653676Z"
        },
        "id": "hEPV5jVGp-is"
      },
      "outputs": [],
      "source": [
        "model.compile(loss=tf.keras.losses.BinaryCrossentropy(from_logits=True),\n",
        "              optimizer=tf.keras.optimizers.Adam(1e-4),\n",
        "              metrics=['accuracy'])"
      ]
    },
    {
      "cell_type": "code",
      "execution_count": 25,
      "metadata": {
        "execution": {
          "iopub.execute_input": "2021-11-02T15:56:29.658306Z",
          "iopub.status.busy": "2021-11-02T15:56:29.657641Z",
          "iopub.status.idle": "2021-11-02T16:05:39.623362Z",
          "shell.execute_reply": "2021-11-02T16:05:39.622731Z"
        },
        "id": "LeSE-YjdqAeN",
        "colab": {
          "base_uri": "https://localhost:8080/"
        },
        "outputId": "5ff1873b-3861-4e95-f6ea-eca43bccda70"
      },
      "outputs": [
        {
          "output_type": "stream",
          "name": "stdout",
          "text": [
            "Epoch 1/10\n",
            "391/391 [==============================] - 71s 147ms/step - loss: 0.5912 - accuracy: 0.6284 - val_loss: 0.4091 - val_accuracy: 0.8297\n",
            "Epoch 2/10\n",
            "391/391 [==============================] - 54s 136ms/step - loss: 0.3776 - accuracy: 0.8377 - val_loss: 0.3449 - val_accuracy: 0.8385\n",
            "Epoch 3/10\n",
            "391/391 [==============================] - 54s 137ms/step - loss: 0.3340 - accuracy: 0.8564 - val_loss: 0.3370 - val_accuracy: 0.8438\n",
            "Epoch 4/10\n",
            "391/391 [==============================] - 53s 135ms/step - loss: 0.3183 - accuracy: 0.8634 - val_loss: 0.3266 - val_accuracy: 0.8557\n",
            "Epoch 5/10\n",
            "391/391 [==============================] - 54s 137ms/step - loss: 0.3126 - accuracy: 0.8677 - val_loss: 0.3235 - val_accuracy: 0.8526\n",
            "Epoch 6/10\n",
            "391/391 [==============================] - 54s 137ms/step - loss: 0.3066 - accuracy: 0.8703 - val_loss: 0.3221 - val_accuracy: 0.8589\n",
            "Epoch 7/10\n",
            "391/391 [==============================] - 54s 137ms/step - loss: 0.3011 - accuracy: 0.8709 - val_loss: 0.3302 - val_accuracy: 0.8589\n",
            "Epoch 8/10\n",
            "391/391 [==============================] - 54s 137ms/step - loss: 0.2977 - accuracy: 0.8723 - val_loss: 0.3232 - val_accuracy: 0.8578\n",
            "Epoch 9/10\n",
            "391/391 [==============================] - 54s 138ms/step - loss: 0.2924 - accuracy: 0.8754 - val_loss: 0.3192 - val_accuracy: 0.8583\n",
            "Epoch 10/10\n",
            "391/391 [==============================] - 54s 137ms/step - loss: 0.2923 - accuracy: 0.8746 - val_loss: 0.3219 - val_accuracy: 0.8484\n"
          ]
        }
      ],
      "source": [
        "history = model.fit(train_dataset, epochs=10,\n",
        "                    validation_data=test_dataset,\n",
        "                    validation_steps=30)"
      ]
    },
    {
      "cell_type": "code",
      "execution_count": 26,
      "metadata": {
        "execution": {
          "iopub.execute_input": "2021-11-02T16:05:39.628681Z",
          "iopub.status.busy": "2021-11-02T16:05:39.627978Z",
          "iopub.status.idle": "2021-11-02T16:06:05.529389Z",
          "shell.execute_reply": "2021-11-02T16:06:05.528860Z"
        },
        "id": "_LdwilM1qPM3",
        "outputId": "1a0fe97a-67c0-4c31-843f-7b2548e3bb29",
        "colab": {
          "base_uri": "https://localhost:8080/"
        }
      },
      "outputs": [
        {
          "output_type": "stream",
          "name": "stdout",
          "text": [
            "391/391 [==============================] - 29s 73ms/step - loss: 0.3180 - accuracy: 0.8480\n",
            "Test Loss: 0.3180302381515503\n",
            "Test Accuracy: 0.848039984703064\n"
          ]
        }
      ],
      "source": [
        "test_loss, test_acc = model.evaluate(test_dataset)\n",
        "\n",
        "print('Test Loss:', test_loss)\n",
        "print('Test Accuracy:', test_acc)"
      ]
    },
    {
      "cell_type": "code",
      "execution_count": 27,
      "metadata": {
        "execution": {
          "iopub.execute_input": "2021-11-02T16:06:05.533990Z",
          "iopub.status.busy": "2021-11-02T16:06:05.533409Z",
          "iopub.status.idle": "2021-11-02T16:06:09.200328Z",
          "shell.execute_reply": "2021-11-02T16:06:09.199826Z"
        },
        "id": "ykUKnAoqbycW",
        "outputId": "3d21ec93-c0d5-4fa4-ecb5-bf697dd15101",
        "colab": {
          "base_uri": "https://localhost:8080/"
        }
      },
      "outputs": [
        {
          "output_type": "stream",
          "name": "stdout",
          "text": [
            "[[-1.9565736]]\n"
          ]
        }
      ],
      "source": [
        "# predict on a sample text without padding.\n",
        "\n",
        "sample_text = ('The movie was not good. The animation and the graphics '\n",
        "               'were terrible. I would not recommend this movie.')\n",
        "predictions = model.predict(np.array([sample_text]))\n",
        "print(predictions)"
      ]
    },
    {
      "cell_type": "code",
      "execution_count": 28,
      "metadata": {
        "execution": {
          "iopub.execute_input": "2021-11-02T16:06:09.257308Z",
          "iopub.status.busy": "2021-11-02T16:06:09.244756Z",
          "iopub.status.idle": "2021-11-02T16:06:09.481357Z",
          "shell.execute_reply": "2021-11-02T16:06:09.480751Z"
        },
        "id": "_YYub0EDtwCu",
        "outputId": "04f0165c-74e9-435f-e926-e585c047ca18",
        "colab": {
          "base_uri": "https://localhost:8080/",
          "height": 388
        }
      },
      "outputs": [
        {
          "output_type": "display_data",
          "data": {
            "text/plain": [
              "<Figure size 1152x432 with 2 Axes>"
            ],
            "image/png": "[encoded data removed]"
          },
          "metadata": {
            "needs_background": "light"
          }
        }
      ],
      "source": [
        "plt.figure(figsize=(16, 6))\n",
        "plt.subplot(1, 2, 1)\n",
        "plot_graphs(history, 'accuracy')\n",
        "plt.subplot(1, 2, 2)\n",
        "plot_graphs(history, 'loss')"
      ]
    }
  ],
  "metadata": {
    "accelerator": "GPU",
    "colab": {
      "collapsed_sections": [],
      "name": "text_classification_rnn.ipynb",
      "provenance": []
    },
    "kernelspec": {
      "display_name": "Python 3",
      "name": "python3"
    },
    "language_info": {
      "codemirror_mode": {
        "name": "ipython",
        "version": 3
      },
      "file_extension": ".py",
      "mimetype": "text/x-python",
      "name": "python",
      "nbconvert_exporter": "python",
      "pygments_lexer": "ipython3",
      "version": "3.7.5"
    }
  },
  "nbformat": 4,
  "nbformat_minor": 0
}